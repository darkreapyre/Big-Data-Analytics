{
 "cells": [
  {
   "cell_type": "markdown",
   "metadata": {},
   "source": [
    "# Matplotlib\n",
    "Data Visualization is a key skill for aspiring data scientists. Matplotlib makes it easy to create meaningful and insightful plots. In this document, we will learn to build various types of plots and to customize them to make them more visually appealing and interpretable, thus allowing the data to tell its own story.\n",
    "\n",
    "## Basic Plots - Line Plot"
   ]
  },
  {
   "cell_type": "code",
   "execution_count": null,
   "metadata": {
    "collapsed": false,
    "scrolled": true
   },
   "outputs": [],
   "source": [
    "%matplotlib inline\n",
    "import matplotlib.pyplot as plt\n",
    "\n",
    "# Create the \"X-axis\"\n",
    "year = [1950, 1970, 1990, 2010]\n",
    "\n",
    "# Create the \"Y-axis\"\n",
    "population = [2.519, 3.692, 5.263, 6.972]\n",
    "\n",
    "# Plot\n",
    "plt.plot(year, population)\n",
    "plt.show()    "
   ]
  },
  {
   "cell_type": "markdown",
   "metadata": {},
   "source": [
    "The `plot()` function tells Python what to plot and how to plot it, while the `show()` function actually displays the plot. \n",
    "\n",
    "__Note:__ To actually display the plot in the Jupyter Notebook, the `inline` backend must be involked for `matplotlib`. With this backend, the output of plotting commands is displayed inline within the notebook, directly below the code cell that produced it. The resulting plots will then also be stored in the notebook document.\n",
    "\n",
    "Below is an example of a line plot with more than $4$ data points."
   ]
  },
  {
   "cell_type": "code",
   "execution_count": null,
   "metadata": {
    "collapsed": false,
    "scrolled": true
   },
   "outputs": [],
   "source": [
    "# Create a range for the years 1950 to 2100\n",
    "year = list(range(1950, 2101))\n",
    "\n",
    "# The world bank has population estimation for the years 1950 - 2100\n",
    "population = [2.53, 2.57, 2.62, 2.67, 2.71, 2.76,\n",
    "              2.81, 2.86, 2.92, 2.97, 3.03, 3.08,\n",
    "              3.14, 3.2, 3.26, 3.33, 3.4, 3.47,\n",
    "              3.54, 3.62, 3.69, 3.77, 3.84, 3.92,\n",
    "              4.0, 4.07, 4.15, 4.22, 4.3, 4.37,\n",
    "              4.45, 4.53, 4.61, 4.69, 4.78, 4.86,\n",
    "              4.95, 5.05, 5.14, 5.23, 5.32, 5.41,\n",
    "              5.49, 5.58, 5.66, 5.74, 5.82, 5.9,\n",
    "              5.98, 6.05, 6.13, 6.2, 6.28, 6.36,\n",
    "              6.44, 6.51, 6.59, 6.67, 6.75, 6.83,\n",
    "              6.92, 7.0, 7.08, 7.16, 7.24, 7.32,\n",
    "              7.4, 7.48, 7.56, 7.64, 7.72, 7.79,\n",
    "              7.87, 7.94, 8.01, 8.08, 8.15, 8.22,\n",
    "              8.29, 8.36, 8.42, 8.49, 8.56, 8.62,\n",
    "              8.68, 8.74, 8.8, 8.86, 8.92, 8.98,\n",
    "              9.04, 9.09, 9.15, 9.2, 9.26, 9.31,\n",
    "              9.36, 9.41, 9.46, 9.5, 9.55, 9.6,\n",
    "              9.64, 9.68, 9.73, 9.77, 9.81, 9.85,\n",
    "              9.88, 9.92, 9.96, 9.99, 10.03, 10.06,\n",
    "              10.09, 10.13, 10.16, 10.19, 10.22,\n",
    "              10.25, 10.28, 10.31, 10.33, 10.36,\n",
    "              10.38, 10.41, 10.43, 10.46, 10.48,\n",
    "              10.5, 10.52,10.55, 10.57, 10.59, 10.61,\n",
    "              10.63, 10.65, 10.66, 10.68, 10.7,\n",
    "              10.72, 10.73, 10.75, 10.77, 10.78,\n",
    "              10.79, 10.81, 10.82, 10.83, 10.84, 10.85]\n",
    "\n",
    "# Create a line plot of the a bove data\n",
    "plt.plot(year, population)\n",
    "plt.show()"
   ]
  },
  {
   "cell_type": "markdown",
   "metadata": {},
   "source": [
    "### Example: Gapminder dataset\n",
    "In this example, we look the data that professor Hans Rosling used for a fact-based world view. It was collected in 2007. The data used for this example is as follows:\n",
    "\n",
    "- __life_exp__ which contains the life expectancy for each country.\n",
    "- __gdp_cap__ which contains the GDP per capita, for each country expressed in US Dollar. GDP stands for Gross Domestic Product. It basically represents the size of the economy of a country. Divide this by the population and you get the GDP per capita."
   ]
  },
  {
   "cell_type": "code",
   "execution_count": null,
   "metadata": {
    "collapsed": false,
    "scrolled": true
   },
   "outputs": [],
   "source": [
    "# Manual life expectancy data\n",
    "life_exp = [43.828000000000003, 76.423000000000002, 72.301000000000002,\n",
    "            42.731000000000002, 75.319999999999993, 81.234999999999999,\n",
    "            79.828999999999994, 75.635000000000005, 64.061999999999998,\n",
    "            79.441000000000003, 56.728000000000002, 65.554000000000002,\n",
    "            74.852000000000004, 50.728000000000002, 72.390000000000001,\n",
    "            73.004999999999995, 52.295000000000002, 49.579999999999998,\n",
    "            59.722999999999999, 50.43, 80.653000000000006,\n",
    "            44.741000000000007, 50.651000000000003, 78.552999999999997,\n",
    "            72.960999999999999, 72.888999999999996, 65.152000000000001,\n",
    "            46.462000000000003, 55.322000000000003, 78.781999999999996,\n",
    "            48.328000000000003, 75.748000000000005, 78.272999999999996,\n",
    "            76.486000000000004, 78.331999999999994, 54.790999999999997,\n",
    "            72.234999999999999, 74.994, 71.338000000000022, 71.878,\n",
    "            51.578999999999994, 58.039999999999999, 52.947000000000003,\n",
    "            79.313000000000002, 80.656999999999996, 56.734999999999999,\n",
    "            59.448, 79.406000000000006, 60.021999999999998,\n",
    "            79.483000000000004, 70.259, 56.006999999999998,\n",
    "            46.388000000000012, 60.915999999999997, 70.198000000000008,\n",
    "            82.207999999999998, 73.338000000000022, 81.757000000000005,\n",
    "            64.698000000000008, 70.650000000000006, 70.963999999999999,\n",
    "            59.545000000000002, 78.885000000000005, 80.745000000000005,\n",
    "            80.546000000000006, 72.566999999999993, 82.602999999999994,\n",
    "            72.534999999999997, 54.109999999999999, 67.296999999999997,\n",
    "            78.623000000000005, 77.588000000000022, 71.992999999999995,\n",
    "            42.591999999999999, 45.677999999999997, 73.951999999999998,\n",
    "            59.443000000000012, 48.302999999999997, 74.241,\n",
    "            54.466999999999999, 64.164000000000001, 72.801000000000002,\n",
    "            76.194999999999993, 66.802999999999997, 74.543000000000006,\n",
    "            71.164000000000001, 42.082000000000001, 62.069000000000003,\n",
    "            52.906000000000013, 63.784999999999997, 79.762,\n",
    "            80.203999999999994, 72.899000000000001, 56.866999999999997,\n",
    "            46.859000000000002, 80.195999999999998, 75.640000000000001,\n",
    "            65.483000000000004, 75.536999999999978, 71.751999999999995,\n",
    "            71.421000000000006, 71.688000000000002, 75.563000000000002,\n",
    "            78.097999999999999, 78.746000000000024, 76.441999999999993,\n",
    "            72.475999999999999, 46.241999999999997, 65.528000000000006,\n",
    "            72.777000000000001, 63.061999999999998, 74.001999999999995,\n",
    "            42.568000000000012, 79.971999999999994, 74.662999999999997,\n",
    "            77.926000000000002, 48.158999999999999, 49.338999999999999,\n",
    "            80.941000000000003, 72.396000000000001, 58.555999999999997,\n",
    "            39.613, 80.884, 81.701000000000022, 74.143000000000001,\n",
    "            78.400000000000006, 52.517000000000003, 70.616,\n",
    "            58.420000000000002,\n",
    "            69.819000000000003, 73.923000000000002, 71.777000000000001,\n",
    "            51.542000000000002, 79.424999999999997, 78.242000000000004,\n",
    "            76.384, 73.747, 74.248999999999995, 73.421999999999997,\n",
    "            62.698, 42.383999999999993, 43.487000000000002]\n",
    "\n",
    "# Manual GDP per capita data\n",
    "gdp_cap = [974.58033839999996, 5937.0295259999984, 6223.3674650000003,\n",
    "           4797.2312670000001, 12779.379639999999, 34435.367439999995,\n",
    "           36126.492700000003, 29796.048340000001, 1391.253792,\n",
    "           33692.605080000001, 1441.2848730000001, 3822.137084,\n",
    "           7446.2988029999997, 12569.851769999999, 9065.8008250000003,\n",
    "           10680.792820000001, 1217.0329939999999, 430.07069159999998,\n",
    "           1713.7786860000001, 2042.0952400000001, 36319.235009999997,\n",
    "           706.01653699999997, 1704.0637240000001, 13171.638849999999,\n",
    "           4959.1148540000004,\n",
    "           7006.5804189999999, 986.14787920000003, 277.55185870000003,\n",
    "           3632.5577979999998, 9645.06142, 1544.7501119999999,\n",
    "           14619.222719999998, 8948.1029230000004, 22833.308509999999,\n",
    "           35278.418740000001, 2082.4815670000007, 6025.3747520000015,\n",
    "           6873.2623260000009, 5581.1809979999998, 5728.3535140000004,\n",
    "           12154.089749999999, 641.36952360000021, 690.80557590000001,\n",
    "           33207.0844, 30470.0167, 13206.48452, 752.74972649999995,\n",
    "           32170.37442, 1327.6089099999999, 27538.41188,\n",
    "           5186.0500030000003,\n",
    "           942.6542111, 579.23174299999982, 1201.637154,\n",
    "           3548.3308460000007,\n",
    "           39724.978669999997, 18008.944439999999, 36180.789190000003,\n",
    "           2452.210407, 3540.6515639999998, 11605.71449,\n",
    "           4471.0619059999999, 40675.996350000001, 25523.277099999999,\n",
    "           28569.719700000001,\n",
    "           7320.8802620000015, 31656.068060000001, 4519.4611709999999,\n",
    "           1463.249282, 1593.06548, 23348.139730000006,\n",
    "           47306.989780000004,\n",
    "           10461.05868, 1569.3314419999999, 414.5073415, 12057.49928,\n",
    "           1044.7701259999999, 759.34991009999999, 12451.6558,\n",
    "           1042.581557, 1803.151496, 10956.991120000001, 11977.57496,\n",
    "           3095.7722710000007, 9253.896111, 3820.1752299999998,\n",
    "           823.68562050000003, 944.0, 4811.0604290000001, 1091.359778,\n",
    "           36797.933319999996, 25185.009109999999, 2749.3209649999999,\n",
    "           619.67689239999982, 2013.9773049999999, 49357.190170000002,\n",
    "           22316.192869999999, 2605.94758, 9809.1856360000002,\n",
    "           4172.8384640000004, 7408.9055609999996, 3190.4810160000002,\n",
    "           15389.924680000002, 20509.64777, 19328.709009999999,\n",
    "           7670.122558, 10808.47561, 863.08846390000019,\n",
    "           1598.4350890000001, 21654.83194, 1712.4721360000001,\n",
    "           9786.5347139999994,\n",
    "           862.54075610000018, 47143.179640000002, 18678.314350000001,\n",
    "           25768.257590000001, 926.14106830000003, 9269.6578079999999,\n",
    "           28821.063699999999, 3970.0954069999998, 2602.3949950000001,\n",
    "           4513.4806429999999, 33859.748350000002, 37506.419070000004,\n",
    "           4184.5480889999999, 28718.276839999999, 1107.482182,\n",
    "           7458.3963269999977, 882.9699437999999, 18008.509239999999,\n",
    "           7092.9230250000001, 8458.2763840000007, 1056.3801209999999,\n",
    "           33203.261279999999, 42951.65309, 10611.46299,\n",
    "           11415.805689999999, 2441.5764039999999, 3025.3497980000002,\n",
    "           2280.769906, 1271.211593, 469.70929810000007]\n",
    "\n",
    "# Print the last item of gdp_cap and life_exp -> Zimbabwe\n",
    "print \"GDP per capita for Zimbabwe:\\n\", gdp_cap[-1]\n",
    "print \"Life expectancy for Zimbabwe:\\n\", life_exp[-1]\n",
    "\n",
    "# Make a line plot, gdp_cap on the x-axis, life_exp on the y-axis\n",
    "plt.plot(gdp_cap, life_exp)\n",
    "\n",
    "# Display the plot\n",
    "plt.show()"
   ]
  },
  {
   "cell_type": "markdown",
   "metadata": {
    "collapsed": true
   },
   "source": [
    "## Basic Plots - Scatterplot"
   ]
  },
  {
   "cell_type": "code",
   "execution_count": null,
   "metadata": {
    "collapsed": false,
    "scrolled": true
   },
   "outputs": [],
   "source": [
    "# Create the \"X-axis\"\n",
    "year = [1950, 1970, 1990, 2010]\n",
    "\n",
    "# Create the \"Y-axis\"\n",
    "population = [2.519, 3.692, 5.263, 6.972]\n",
    "\n",
    "# Plot\n",
    "plt.scatter(year, population)\n",
    "plt.show()  "
   ]
  },
  {
   "cell_type": "markdown",
   "metadata": {},
   "source": [
    "As can be seen, the code for the scatter plot is the same as for a standard plot, except the `scatter` method is used. Unlike the line plot, this method simply plots the individual data points and doesn;t connect them together with a line. This plot is one of the most commonly used plot in Data Science as it \"honestly\" provides a visualization of the data. Below is an example of a scatterplot with more than $4$ data points."
   ]
  },
  {
   "cell_type": "code",
   "execution_count": null,
   "metadata": {
    "collapsed": false,
    "scrolled": true
   },
   "outputs": [],
   "source": [
    "%matplotlib inline\n",
    "# Create a range for the years 1950 to 2100\n",
    "year = list(range(1950, 2101))\n",
    "\n",
    "# The world bank has population estimation for the years 1950 - 2100\n",
    "population = [2.53, 2.57, 2.62, 2.67, 2.71, 2.76,\n",
    "              2.81, 2.86, 2.92, 2.97, 3.03, 3.08,\n",
    "              3.14, 3.2, 3.26, 3.33, 3.4, 3.47,\n",
    "              3.54, 3.62, 3.69, 3.77, 3.84, 3.92,\n",
    "              4.0, 4.07, 4.15, 4.22, 4.3, 4.37,\n",
    "              4.45, 4.53, 4.61, 4.69, 4.78, 4.86,\n",
    "              4.95, 5.05, 5.14, 5.23, 5.32, 5.41,\n",
    "              5.49, 5.58, 5.66, 5.74, 5.82, 5.9,\n",
    "              5.98, 6.05, 6.13, 6.2, 6.28, 6.36,\n",
    "              6.44, 6.51, 6.59, 6.67, 6.75, 6.83,\n",
    "              6.92, 7.0, 7.08, 7.16, 7.24, 7.32,\n",
    "              7.4, 7.48, 7.56, 7.64, 7.72, 7.79,\n",
    "              7.87, 7.94, 8.01, 8.08, 8.15, 8.22,\n",
    "              8.29, 8.36, 8.42, 8.49, 8.56, 8.62,\n",
    "              8.68, 8.74, 8.8, 8.86, 8.92, 8.98,\n",
    "              9.04, 9.09, 9.15, 9.2, 9.26, 9.31,\n",
    "              9.36, 9.41, 9.46, 9.5, 9.55, 9.6,\n",
    "              9.64, 9.68, 9.73, 9.77, 9.81, 9.85,\n",
    "              9.88, 9.92, 9.96, 9.99, 10.03, 10.06,\n",
    "              10.09, 10.13, 10.16, 10.19, 10.22,\n",
    "              10.25, 10.28, 10.31, 10.33, 10.36,\n",
    "              10.38, 10.41, 10.43, 10.46, 10.48,\n",
    "              10.5, 10.52,10.55, 10.57, 10.59, 10.61,\n",
    "              10.63, 10.65, 10.66, 10.68, 10.7,\n",
    "              10.72, 10.73, 10.75, 10.77, 10.78,\n",
    "              10.79, 10.81, 10.82, 10.83, 10.84, 10.85]\n",
    "# Plot the same data as a scatter plot\n",
    "plt.scatter(year, population)\n",
    "plt.show()"
   ]
  },
  {
   "cell_type": "markdown",
   "metadata": {},
   "source": [
    "### Example: Gapminder Dataset\n",
    "When we have a time scale along the horizontal axis, the line plot is our friend. But in many other cases, when we're trying to assess if there's a correlation between two variables, for example, the scatter plot is the better choice. Continuing with the `gdp_cap` versus `life_exp` plot, the GDP and life expectancy data for different countries in 2007. Maybe a scatter plot will be a better alternative?"
   ]
  },
  {
   "cell_type": "code",
   "execution_count": null,
   "metadata": {
    "collapsed": false,
    "scrolled": true
   },
   "outputs": [],
   "source": [
    "# Change the line plot from the previous example to a scatter plot\n",
    "plt.scatter(gdp_cap, life_exp)\n",
    "\n",
    "# Put the x-axis on a logarithmic scale\n",
    "plt.xscale('log')\n",
    "\n",
    "# Show plot\n",
    "plt.show()"
   ]
  },
  {
   "cell_type": "markdown",
   "metadata": {},
   "source": [
    "As we can see, by changing the scale of the X-Axis and the plot from a line into a scatter plot, the data visualization allows us to see the a clearer correlation between the two variables, the higher GDP usually corresponds to a higher life expectancy. In other words, there is a positive correlation. So in this case, using a scatter plot is a better alternative.\n",
    "\n",
    "But can the data visualization show if there's a relationship between population and life expectancy of a country? The example below adds the `population` data (in millions of people), listing the corresponding populations for the countries in 2007. The populations are in millions of people."
   ]
  },
  {
   "cell_type": "code",
   "execution_count": null,
   "metadata": {
    "collapsed": false,
    "scrolled": true
   },
   "outputs": [],
   "source": [
    "%matplotlib inline\n",
    "# Manually add the population data\n",
    "population = [31.889923, 3.6005229999999999, 33.333216,\n",
    "              12.420476000000001, 40.301926999999999,\n",
    "              20.434176000000001,\n",
    "              8.199783, 0.70857300000000001, 150.448339,\n",
    "              10.392226000000001, 8.0783140000000007,\n",
    "              9.1191519999999997,\n",
    "              4.5521979999999997, 1.6391309999999999,\n",
    "              190.01064700000001, 7.3228580000000001,\n",
    "              14.326203, 8.3905049999999992,\n",
    "              14.131857999999999, 17.696293000000001,\n",
    "              33.390141, 4.3690379999999998, 10.238807,\n",
    "              16.284741, 1318.683096,\n",
    "              44.227550000000001, 0.71096000000000004,\n",
    "              64.606758999999997, 3.8006099999999998,\n",
    "              4.1338840000000001,\n",
    "              18.013408999999999, 4.4933120000000004,\n",
    "              11.416987000000001, 10.228744000000001,\n",
    "              5.4681199999999999,\n",
    "              0.49637399999999998, 9.3196220000000007,\n",
    "              13.75568, 80.264543000000003,\n",
    "              6.9396880000000003, 0.55120100000000005,\n",
    "              4.9065849999999998, 76.511887000000002,\n",
    "              5.2384599999999999, 61.083916000000002,\n",
    "              1.4548669999999999, 1.6883589999999999,\n",
    "              82.400996000000006, 22.873338,\n",
    "              10.706289999999999,\n",
    "              12.572927999999999, 9.9478139999999993,\n",
    "              1.4720409999999999,\n",
    "              8.5028140000000008, 7.4837629999999997,\n",
    "              6.9804120000000003, 9.9561080000000004,\n",
    "              0.301931, 1110.3963309999999,\n",
    "              223.547, 69.453569999999999,\n",
    "              27.499638000000001, 4.1090859999999996,\n",
    "              6.426679, 58.147733000000002,\n",
    "              2.780132, 127.467972, 6.0531930000000003,\n",
    "              35.610177,\n",
    "              23.301725000000001, 49.044789999999999,\n",
    "              2.5055589999999999,\n",
    "              3.921278, 2.0126490000000001,\n",
    "              3.1939419999999998,\n",
    "              6.0369140000000003, 19.167653999999999,\n",
    "              13.327078999999999,\n",
    "              24.821286000000001, 12.031795000000001,\n",
    "              3.2700650000000002, 1.250882, 108.700891,\n",
    "              2.8741270000000001,\n",
    "              0.68473600000000001, 33.757174999999997,\n",
    "              19.951656, 47.761980000000001,\n",
    "              2.0550799999999998,\n",
    "              28.901789999999998,\n",
    "              16.570613000000002, 4.1157709999999996,\n",
    "              5.6753559999999998, 12.894864999999999,\n",
    "              135.03116399999999,\n",
    "              4.6279260000000004, 3.2048969999999999,\n",
    "              169.27061699999999, 3.2421730000000002,\n",
    "              6.6671469999999999, 28.674757,\n",
    "              91.077286999999998, 38.518241000000003,\n",
    "              10.642836000000001, 3.942491,\n",
    "              0.79809399999999997,\n",
    "              22.276056000000001,\n",
    "              8.8605879999999999, 0.19957900000000001,\n",
    "              27.601037999999999, 12.267493,\n",
    "              10.150264999999999, 6.1445619999999996,\n",
    "              4.5530090000000003, 5.4475020000000001,\n",
    "              2.0092449999999999, 9.1187729999999991,\n",
    "              43.997827999999998, 40.448191000000001,\n",
    "              20.378239000000001, 42.292929000000001,\n",
    "              1.1330659999999999, 9.0310880000000004,\n",
    "              7.5546610000000003, 19.314747000000001,\n",
    "              23.174294, 38.13964, 65.068149000000005,\n",
    "              5.7015789999999997, 1.056608,\n",
    "              10.276158000000001,\n",
    "              71.158647000000002,\n",
    "              29.170397999999999, 60.776237999999999,\n",
    "              301.13994700000001, 3.4474960000000001,\n",
    "              26.084662000000002, 85.262355999999997,\n",
    "              4.018332, 22.211742999999998,\n",
    "              11.746034999999999, 12.311143]\n",
    "\n",
    "# Build Scatter plot\n",
    "plt.scatter(population, life_exp)\n",
    "\n",
    "# Show plot\n",
    "plt.show()"
   ]
  },
  {
   "cell_type": "markdown",
   "metadata": {},
   "source": [
    "The plot above shows that there is no clear relationship between population and life expectancy, which makes perfect sense. So indirectly visualizing the data can also be used to show the \"obvious\".\n",
    "\n",
    "## Histogram\n",
    "The [histogram](https://statistics.laerd.com/statistical-guides/understanding-histograms.php) is another useful visualization to explore data as it gives us an idea of the distribution of the variables. Matplotlib provides the `hist()` function. This function takes as input a number of different arguments, but the first two, `x` and `bins`, are the most important:\n",
    "\n",
    "- $x$ is a list of the values we wish to build the hisogram for.\n",
    "- $bins$ tell python how many bins the data should be divided into. Based on the input number, the `hist()` function will automatically find appropriate boundaries for all bins and calculate how many values are in each one. If no aregument is specified, the `hist()` function assumes $10$ by default."
   ]
  },
  {
   "cell_type": "code",
   "execution_count": null,
   "metadata": {
    "collapsed": false,
    "scrolled": false
   },
   "outputs": [],
   "source": [
    "# Create a list of 12 values\n",
    "values = [0,0.6,1.4,1.6,2.2,2.5,2.6,3.2,3.5,3.9,4.2,6]\n",
    "\n",
    "# Call the `hist()` function with values as input\n",
    "plt.hist(values, bins = 3) # Values divided into 3 bins\n",
    "\n",
    "# Show the plot\n",
    "plt.show()"
   ]
  },
  {
   "cell_type": "markdown",
   "metadata": {},
   "source": [
    "### Example: Gapminder Dataset\n",
    "Using the `life_exp` varaible declared earlier, we will look at how it is display as a histogram."
   ]
  },
  {
   "cell_type": "code",
   "execution_count": null,
   "metadata": {
    "collapsed": false
   },
   "outputs": [],
   "source": [
    "# Create histogram of life_exp data\n",
    "plt.hist(life_exp)\n",
    "\n",
    "# Display histogram\n",
    "plt.show()"
   ]
  },
  {
   "cell_type": "markdown",
   "metadata": {},
   "source": [
    "In the example above, we didn't specify the number of bins. By default, Python sets the number of bins to `10` in that case. The number of bins is very important. Too few bins oversimplifies \"reality\", which doesn't show the detail in the data. Too many bins overcomplicates \"reality\" and doesn't give the bigger picture. To control the number of bins to divide your data in, we can set the `bins` argument. In the next example, we show two plots, one with `5` bins and one with `20` bins. After the `plt.show()` call, we call `plt.clf()`; `plt.clf()` cleans up the plot so that we can start afresh."
   ]
  },
  {
   "cell_type": "code",
   "execution_count": null,
   "metadata": {
    "collapsed": false
   },
   "outputs": [],
   "source": [
    "# Build histogram with 5 bins\n",
    "plt.hist(life_exp, bins = 5)\n",
    "\n",
    "# Show and clean up plot\n",
    "plt.show()\n",
    "plt.clf()\n",
    "\n",
    "# Build histogram with 20 bins\n",
    "plt.hist(life_exp, bins = 20)\n",
    "\n",
    "# Show and clean up again\n",
    "plt.show()"
   ]
  },
  {
   "cell_type": "markdown",
   "metadata": {},
   "source": [
    "As can be seen, havin more bins provides better detail into the \"reality\" of the distribution. \n",
    "\n",
    "## Plot Customization\n"
   ]
  },
  {
   "cell_type": "code",
   "execution_count": null,
   "metadata": {
    "collapsed": true,
    "scrolled": true
   },
   "outputs": [],
   "source": []
  }
 ],
 "metadata": {
  "kernelspec": {
   "display_name": "Python 2",
   "language": "python",
   "name": "python2"
  },
  "language_info": {
   "codemirror_mode": {
    "name": "ipython",
    "version": 2
   },
   "file_extension": ".py",
   "mimetype": "text/x-python",
   "name": "python",
   "nbconvert_exporter": "python",
   "pygments_lexer": "ipython2",
   "version": "2.7.6"
  }
 },
 "nbformat": 4,
 "nbformat_minor": 0
}
