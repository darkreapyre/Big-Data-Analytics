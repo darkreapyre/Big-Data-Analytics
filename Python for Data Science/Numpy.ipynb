{
 "cells": [
  {
   "cell_type": "markdown",
   "metadata": {
    "collapsed": true
   },
   "source": [
    "# Numpy\n",
    "Numpy is a Python package to efficiently do Data Science. This document details an introduction to Numpy and the Numpy array, a faster and more powerful alternative to Python lists. Python lists can hold any data type, as well as different types at the same time. As powerful as lists may be, when analyzing data however, we are often carrying out operations over entire collections of values with a requiment for speedy results. Utilizing Python lists becomes problematic. For example, we will use height data:"
   ]
  },
  {
   "cell_type": "code",
   "execution_count": 1,
   "metadata": {
    "collapsed": false,
    "scrolled": true
   },
   "outputs": [
    {
     "ename": "TypeError",
     "evalue": "unsupported operand type(s) for ** or pow(): 'list' and 'int'",
     "output_type": "error",
     "traceback": [
      "\u001b[1;31m---------------------------------------------------------------------------\u001b[0m",
      "\u001b[1;31mTypeError\u001b[0m                                 Traceback (most recent call last)",
      "\u001b[1;32m<ipython-input-1-a84e703902a5>\u001b[0m in \u001b[0;36m<module>\u001b[1;34m()\u001b[0m\n\u001b[0;32m      6\u001b[0m \u001b[1;33m\u001b[0m\u001b[0m\n\u001b[0;32m      7\u001b[0m \u001b[1;31m# Calculate the BMI for each person\u001b[0m\u001b[1;33m\u001b[0m\u001b[1;33m\u001b[0m\u001b[0m\n\u001b[1;32m----> 8\u001b[1;33m \u001b[0mweight\u001b[0m \u001b[1;33m/\u001b[0m \u001b[0mheight\u001b[0m \u001b[1;33m**\u001b[0m \u001b[1;36m2\u001b[0m\u001b[1;33m\u001b[0m\u001b[0m\n\u001b[0m",
      "\u001b[1;31mTypeError\u001b[0m: unsupported operand type(s) for ** or pow(): 'list' and 'int'"
     ]
    }
   ],
   "source": [
    "# Create a python list of height in meters\n",
    "height = [1.73, 1.68, 1.71, 1.89, 1.79]\n",
    "\n",
    "# Create a python list of wight in kilograms\n",
    "weight = [65.4, 59.2, 63.6, 88.4, 68.7]\n",
    "\n",
    "# Calculate the BMI for each person\n",
    "weight / height ** 2"
   ]
  },
  {
   "cell_type": "markdown",
   "metadata": {},
   "source": [
    "As can be seen from the above output, Python does not have the capability of performing mathematical operations on lists. The operation could be done by extracting the individual `height` and `weight` values for each person and cluculating them separately. *But* this take time and is inefficient. Thus the better solution is to use __Numeric Python__ or __Numpy Array__. \n",
    "\n",
    "## Vector (single dimension) Numpy Arrays\n",
    "The Numpy array is similar to the Python list except, with the numpy arrays, we can perform calculations over entire arrays is a very fast and programatically efficient way. For example:"
   ]
  },
  {
   "cell_type": "code",
   "execution_count": 2,
   "metadata": {
    "collapsed": false
   },
   "outputs": [
    {
     "data": {
      "text/plain": [
       "array([ 21.85171573,  20.97505669,  21.75028214,  24.7473475 ,  21.44127836])"
      ]
     },
     "execution_count": 2,
     "metadata": {},
     "output_type": "execute_result"
    }
   ],
   "source": [
    "import numpy as np\n",
    "\n",
    "# Create a numpy array from `height`\n",
    "np_height = np.array(height)\n",
    "\n",
    "# Create a numpy arra from `weight`\n",
    "np_weight = np.array(weight)\n",
    "\n",
    "# Calculate the BMI of each person\n",
    "bmi = np_weight / np_height **2\n",
    "bmi"
   ]
  },
  {
   "cell_type": "markdown",
   "metadata": {},
   "source": [
    "Each calcultaton is performed element-wise; the first person's BMI was calculated by dividing the first element of `np_weight` by the square of the first element from  `np_height` etc.  \n",
    "\n",
    "__Note:__ Numpy arrays cannot contain elements with different types. If you try to build such a list, some of the elments' types are changed to end up with a homogenous list. This is known as *type coercion*. Additionally, the typical arithmetic operators, such as `+`, `-`, `*` and `/` have a different meaning for regular Python lists and Numpy arrays. \n",
    "\n",
    "### Subsetting Numpy Arrays\n",
    "Outside of that, we can use Numpy array in the very same way as Python lists for subsetting (e.g. `bmi[1]` for index `1`) and an array of booleans as follows:"
   ]
  },
  {
   "cell_type": "code",
   "execution_count": 3,
   "metadata": {
    "collapsed": false
   },
   "outputs": [
    {
     "data": {
      "text/plain": [
       "array([False, False, False,  True, False], dtype=bool)"
      ]
     },
     "execution_count": 3,
     "metadata": {},
     "output_type": "execute_result"
    }
   ],
   "source": [
    "# List values above `23`\n",
    "bmi > 23"
   ]
  },
  {
   "cell_type": "code",
   "execution_count": 4,
   "metadata": {
    "collapsed": false
   },
   "outputs": [
    {
     "data": {
      "text/plain": [
       "array([ 24.7473475])"
      ]
     },
     "execution_count": 4,
     "metadata": {},
     "output_type": "execute_result"
    }
   ],
   "source": [
    "# Subset based on the boolean\n",
    "bmi[bmi > 23]"
   ]
  },
  {
   "cell_type": "code",
   "execution_count": 5,
   "metadata": {
    "collapsed": false
   },
   "outputs": [
    {
     "data": {
      "text/plain": [
       "array([ 21.85171573,  20.97505669,  21.75028214,  24.7473475 ])"
      ]
     },
     "execution_count": 5,
     "metadata": {},
     "output_type": "execute_result"
    }
   ],
   "source": [
    "# Indexing starts at `0`\n",
    "bmi[0:4]"
   ]
  },
  {
   "cell_type": "markdown",
   "metadata": {},
   "source": [
    "__Note:__ When using subsetting, don;t forget that the indexing starts at `0`.\n",
    "\n",
    "## Two-dimensional Numpy Arrays\n",
    "Two-dimensional (or even n-dimensiona) arrays can be created from a Python list of lists:"
   ]
  },
  {
   "cell_type": "code",
   "execution_count": 6,
   "metadata": {
    "collapsed": false
   },
   "outputs": [
    {
     "data": {
      "text/plain": [
       "(2, 5)"
      ]
     },
     "execution_count": 6,
     "metadata": {},
     "output_type": "execute_result"
    }
   ],
   "source": [
    "# 2D array from `height` and `weight` lists\n",
    "np_2d = np.array([[1.73, 1.68, 1.71, 1.89, 1.79],\n",
    "                          [65.4, 59.2, 63.6, 88.4, 68.7]])\n",
    "\n",
    "# View the shap\n",
    "np_2d.shape"
   ]
  },
  {
   "cell_type": "markdown",
   "metadata": {},
   "source": [
    "Here we have created a Numpy array with __2__ rows and __5__ columns and just as with single dimension arrays, the same rule applies, Numpy arrays can only contain data of a single type. This is very important to remember in Data Science as in many cases we deal with differnt types of data. So coercing the data into a Numpy array, will force *ALL* the data to a single type, which can impact any future analysis."
   ]
  },
  {
   "cell_type": "code",
   "execution_count": 7,
   "metadata": {
    "collapsed": false
   },
   "outputs": [
    {
     "data": {
      "text/plain": [
       "array([['1.73', '1.68', '1.71', '1.89', '1.79'],\n",
       "       ['65.4', '59.2', '63.6', '88.4', '68.7']], \n",
       "      dtype='|S32')"
      ]
     },
     "execution_count": 7,
     "metadata": {},
     "output_type": "execute_result"
    }
   ],
   "source": [
    "# Create a Numpy array but add a \"string\" type to existing \"float\" types\n",
    "np.array([[1.73, 1.68, 1.71, 1.89, 1.79],\n",
    "                  [65.4, 59.2, 63.6, 88.4, \"68.7\"]])"
   ]
  },
  {
   "cell_type": "markdown",
   "metadata": {},
   "source": [
    "The output above shows that all the *float* type has be coerced to a single type -> *string*. \n",
    "### Subsetting Two-dimensional Numpy Arrays\n",
    "Unlike single dimension arrays, where indexing `0` provides the first element of the vector, since n-dimensional numpy arrays are in essence lists of lists, indexing `0` provides the first element; the entire row."
   ]
  },
  {
   "cell_type": "code",
   "execution_count": 8,
   "metadata": {
    "collapsed": false
   },
   "outputs": [
    {
     "data": {
      "text/plain": [
       "array([ 1.73,  1.68,  1.71,  1.89,  1.79])"
      ]
     },
     "execution_count": 8,
     "metadata": {},
     "output_type": "execute_result"
    }
   ],
   "source": [
    "# Get the first element of the `np_2d` array\n",
    "np_2d[0]"
   ]
  },
  {
   "cell_type": "markdown",
   "metadata": {},
   "source": [
    "To further index the elements within the row, we can extend the same call with another element:"
   ]
  },
  {
   "cell_type": "code",
   "execution_count": 9,
   "metadata": {
    "collapsed": false
   },
   "outputs": [
    {
     "data": {
      "text/plain": [
       "1.71"
      ]
     },
     "execution_count": 9,
     "metadata": {},
     "output_type": "execute_result"
    }
   ],
   "source": [
    "# Get the third element of the first row\n",
    "np_2d[0][2]"
   ]
  },
  {
   "cell_type": "markdown",
   "metadata": {},
   "source": [
    "__Remember__, indexing starts at `0`, so therefore the $3^{rd}$ element is index `2`.\n",
    "\n",
    "An alternate way of subsetting uses a single *square bracket* and a *comma* to separate the rows (or individual Python lists) and then the element within the row (or list), as follows:"
   ]
  },
  {
   "cell_type": "code",
   "execution_count": 10,
   "metadata": {
    "collapsed": false
   },
   "outputs": [
    {
     "data": {
      "text/plain": [
       "1.71"
      ]
     },
     "execution_count": 10,
     "metadata": {},
     "output_type": "execute_result"
    }
   ],
   "source": [
    "# Alternate subsetting method\n",
    "np_2d[0, 2]"
   ]
  },
  {
   "cell_type": "markdown",
   "metadata": {},
   "source": [
    "As can be seen, this method is far more intuitive and allows for futher flexability. For example, suppose we want to select the `height` and `weight` of both the $2^{nd}$ and $3^{rd}$ family members: "
   ]
  },
  {
   "cell_type": "code",
   "execution_count": 11,
   "metadata": {
    "collapsed": false
   },
   "outputs": [
    {
     "data": {
      "text/plain": [
       "array([[  1.68,   1.71],\n",
       "       [ 59.2 ,  63.6 ]])"
      ]
     },
     "execution_count": 11,
     "metadata": {},
     "output_type": "execute_result"
    }
   ],
   "source": [
    "# Both `Height` and `Weight` of the 2nd and 3rd memebers\n",
    "np_2d[:, 1:3]"
   ]
  },
  {
   "cell_type": "markdown",
   "metadata": {},
   "source": [
    "Here we can see that we use `:` to represent that we want all rows (in this case, both of them) and then we want the $2^{nd}$ and $3^{rd}$ column, so we insert the indices, __1__ through __3__. __Remember__ that the $3^{rd}$ index is not included here.  The result of this intersection is a two-dimensional array with __2__ rowns and __2__ colums. this is particulary usefull in Data Science when we have to sift thought large amounts of data to potentially look at the formatting of particular variables or find the value of a particular variable, or select and entire \"column\"."
   ]
  },
  {
   "cell_type": "code",
   "execution_count": 12,
   "metadata": {
    "collapsed": false
   },
   "outputs": [
    {
     "name": "stdout",
     "output_type": "stream",
     "text": [
      "The shape of the array is: (5000, 2)\n",
      "The 50th row of the array is: [  1.48  60.36]\n",
      "The shape of the new array is: (5000,)\n",
      "The first column element of the 270th row is: 1.82\n"
     ]
    }
   ],
   "source": [
    "# Create a relatively large list manually\n",
    "x = [[74, 180], [74, 215], [72, 210], [72, 210], [73, 188], [69, 176], [69, 209], [71, 200], [76, 231], [71, 180],\n",
    "     [73, 188], [73, 180], [74, 185], [74, 160], [69, 180], [70, 185], [73, 189], [75, 185], [78, 219], [79, 230],\n",
    "     [76, 205], [74, 230], [76, 195], [72, 180], [71, 192], [75, 225], [77, 203], [74, 195], [73, 182], [74, 188],\n",
    "     [78, 200], [73, 180], [75, 200], [73, 200], [75, 245], [75, 240], [74, 215], [69, 185], [71, 175], [74, 199],\n",
    "     [73, 200], [73, 215], [76, 200], [74, 205], [74, 206], [70, 186], [72, 188], [77, 220], [74, 210], [70, 195],\n",
    "     [73, 200], [75, 200], [76, 212], [76, 224], [78, 210], [74, 205], [74, 220], [76, 195], [77, 200], [81, 260],\n",
    "     [78, 228], [75, 270], [77, 200], [75, 210], [76, 190], [74, 220], [72, 180], [72, 205], [75, 210], [73, 220],\n",
    "     [73, 211], [73, 200], [70, 180], [70, 190], [70, 170], [76, 230], [68, 155], [71, 185], [72, 185], [75, 200],\n",
    "     [75, 225], [75, 225], [75, 220], [68, 160], [74, 205], [78, 235], [71, 250], [73, 210], [76, 190], [74, 160],\n",
    "     [74, 200], [79, 205], [75, 222], [73, 195], [76, 205], [74, 220], [74, 220], [73, 170], [72, 185], [74, 195],\n",
    "     [73, 220], [74, 230], [72, 180], [73, 220], [69, 180], [72, 180], [73, 170], [75, 210], [75, 215], [73, 200],\n",
    "     [72, 213], [72, 180], [76, 192], [74, 235], [72, 185], [77, 235], [74, 210], [77, 222], [75, 210], [76, 230],\n",
    "     [80, 220], [74, 180], [74, 190], [75, 200], [78, 210], [73, 194], [73, 180], [74, 190], [75, 240], [76, 200],\n",
    "     [71, 198], [73, 200], [74, 195], [76, 210], [76, 220], [74, 190], [73, 210], [74, 225], [70, 180], [72, 185],\n",
    "     [73, 170], [73, 185], [73, 185], [73, 180], [71, 178], [74, 175], [74, 200], [72, 204], [74, 211], [71, 190],\n",
    "     [74, 210], [73, 190], [75, 190], [75, 185], [79, 290], [73, 175], [75, 185], [76, 200], [74, 220], [76, 170],\n",
    "     [78, 220], [74, 190], [76, 220], [72, 205], [74, 200], [76, 250], [74, 225], [75, 215], [78, 210], [75, 215],\n",
    "     [72, 195], [74, 200], [72, 194], [74, 220]]\n",
    "\n",
    "# Create a realtivley large list automatically using a a sample random distribution 5000 times\n",
    "height = np.round(np.random.normal(1.75, 0.20, 5000), 2)\n",
    "weight = np.round(np.random.normal(60.32, 15, 5000), 2)\n",
    "\n",
    "# Use the `column_stack` function to paste the two colums together\n",
    "x = np.column_stack((height, weight))\n",
    "\n",
    "# Create a numpy array\n",
    "np_x = np.array(x)\n",
    "\n",
    "# View the \"size\" of the array\n",
    "print \"The shape of the array is:\", np_x.shape\n",
    "\n",
    "# Print the 50th row of np_x (Remember that the 50th row is index 49)\n",
    "print \"The 50th row of the array is:\", np_x[49, :]\n",
    "\n",
    "# Make a new variable, np_y, containing the entire second column of np_x\n",
    "np_y = np_x[:, 1]\n",
    "print \"The shape of the new array is:\", np_y.shape\n",
    "\n",
    "# Print the first column index of the 270th row of np_x\n",
    "print \"The first column element of the 270th row is:\", np_x[269, 0]"
   ]
  },
  {
   "cell_type": "markdown",
   "metadata": {},
   "source": [
    "__Note:__ in the above Python code, to generate a random normal distribution, the syntax used is as follows:\n",
    "$$x\\,=\\,np.random.normal(<distribution\\,mean>,\\,<distribution\\,standard\\,deviation>,\\,<no.\\,of\\,samples>)$$\n",
    "\n",
    "\n",
    "Finally, n-dimensional arrays allow us to also perform element-wise calculations, for example:"
   ]
  },
  {
   "cell_type": "code",
   "execution_count": 13,
   "metadata": {
    "collapsed": false
   },
   "outputs": [
    {
     "name": "stdout",
     "output_type": "stream",
     "text": [
      "Every element multiplied by 2:\n",
      "[[ 2  4]\n",
      " [ 6  8]\n",
      " [10 12]] \n",
      "\n",
      "2d array adding another array:\n",
      "[[11 12]\n",
      " [13 14]\n",
      " [15 16]] \n",
      "\n",
      "2d array added to itself:\n",
      "[[ 2  4]\n",
      " [ 6  8]\n",
      " [10 12]] \n",
      "\n"
     ]
    }
   ],
   "source": [
    "# Build 2d array\n",
    "np_mat = np.array([[1, 2],\n",
    "                   [3, 4],\n",
    "                   [5, 6]])\n",
    "\n",
    "print \"Every element multiplied by 2:\\n\", np_mat * 2, \"\\n\"\n",
    "print \"2d array adding another array:\\n\", np_mat + np.array([10, 10]), \"\\n\"\n",
    "print \"2d array added to itself:\\n\", np_mat + np_mat, \"\\n\""
   ]
  },
  {
   "cell_type": "markdown",
   "metadata": {},
   "source": [
    "## Numpy Basic Statistics\n",
    "Since this document outlines using Numpy in the Data Science process, we will leverage it to get to know the data. Aside from simply performing array mathamatical operations, Numpy also allows us to perform __summary statistics__ like getting the *mean*, *median*, *correlation coefficient* and *standard deviation*."
   ]
  },
  {
   "cell_type": "code",
   "execution_count": 14,
   "metadata": {
    "collapsed": false
   },
   "outputs": [
    {
     "name": "stdout",
     "output_type": "stream",
     "text": [
      "The average person's height is:\n",
      "1.75 \n",
      "\n",
      "The middle person's height (median) is:\n",
      "1.75 \n",
      "\n",
      "What is the correlation coefficient of Height vs. Weight?\n",
      "[[ 1.          0.02290169]\n",
      " [ 0.02290169  1.        ]] \n",
      "\n",
      "The standard deviation of a person's height is:\n",
      "0.204925645052\n"
     ]
    }
   ],
   "source": [
    "# Get the summary statistics of the `height` (first column) from realtivley large array used before\n",
    "print \"The average person's height is:\\n\", np.mean(np_x[:, 0]), \"\\n\"\n",
    "print \"The middle person's height (median) is:\\n\", np.median(np_x[:, 0]), \"\\n\"\n",
    "print \"What is the correlation coefficient of Height vs. Weight?\\n\", np.corrcoef(np_x[:, 0], np_x[:, 1]), \"\\n\"\n",
    "print \"The standard deviation of a person's height is:\\n\", np.std(np_x[:, 0])"
   ]
  },
  {
   "cell_type": "markdown",
   "metadata": {},
   "source": [
    "Numpy also support the standard `Python` functions like `sum()` and `sort()`, but the key difference here is __speed__. Due to the fact that the numpy array coerces all the data to a single data type, the calculations are faster.\n",
    "\n",
    "## Data Science Exercise\n",
    "You've contacted the FIFA for some data and they handed you two lists. The lists are the following:\n",
    "```\n",
    "positions = ['GK', 'M', 'A', 'D', ...]\n",
    "heights = [191, 184, 185, 180, ...]\n",
    "```\n",
    "Each element in the lists corresponds to a player. The first list, positions, contains strings representing each player's position. The possible positions are: 'GK' (goalkeeper), 'M' (midfield), 'A' (attack) and 'D' (defense). The second list, heights, contains integers representing the height of the player in cm. The first player in the lists is a goalkeeper and is pretty tall (191 cm).\n",
    "\n",
    "You're fairly confident that the median height of goalkeepers is higher than that of other players on the soccer field. Some of your friends don't believe you, so you are determined to show them using the data you received from FIFA and your newly acquired Python skills.\n",
    "\n",
    "### Instructions\n",
    "- Create `heights` and `positions`, which are regular lists, to numpy arrays. Call them `np_heights` and `np_positions`.\n",
    "- Extract all the heights of just the goalkeepers. Assign the result to `gk_heights`.\n",
    "- Extract all the heights of the all the other players. Assign the result to `other_heights`.\n",
    "- Print out the median height of the goalkeepers.\n",
    "- Do the same for the other players."
   ]
  },
  {
   "cell_type": "code",
   "execution_count": 15,
   "metadata": {
    "collapsed": false
   },
   "outputs": [
    {
     "name": "stdout",
     "output_type": "stream",
     "text": [
      "Median height of goalkeepers: 179.0\n",
      "Median height of other players: 185.0\n"
     ]
    }
   ],
   "source": [
    "# Manually create 50 sample `positions`\n",
    "positions = ['GK', 'M', 'A', 'D', 'M', 'D', 'M', 'M', 'M', 'A', 'M', 'M', 'A', 'A', 'A', 'D', 'A', 'D', 'M', 'GK',\n",
    "             'D', 'D', 'M', 'M', 'M', 'M', 'D', 'M', 'GK', 'D', 'GK', 'D', 'D', 'M', 'A', 'M', 'D', 'M', 'GK', 'M',\n",
    "             'GK', 'A', 'D', 'GK', 'A', 'GK', 'GK', 'GK', 'GK', 'M']\n",
    "\n",
    "# Manually create 50 sample `heights`\n",
    "heights = [191, 184, 185, 180, 181, 187, 170, 179, 183, 186, 185, 170, 187, 183, 173, 188, 183, 180, 188, 175, 193,\n",
    "           180, 185, 170, 183, 173, 185, 185, 168, 190, 178, 185, 185, 193, 183, 184, 178, 180, 177, 188, 177, 187,\n",
    "           186, 183, 189, 179, 196, 190, 189, 188]\n",
    "\n",
    "# Import numpy\n",
    "import numpy as np\n",
    "\n",
    "# Convert positions and heights to numpy arrays: np_positions, np_heights\n",
    "np_heights = np.array(heights)\n",
    "np_positions = np.array(positions)\n",
    "\n",
    "# Heights of the goalkeepers: gk_heights\n",
    "gk_heights = np_heights[np_positions == \"GK\"]\n",
    "\n",
    "# Heights of the other players: other_heights\n",
    "other_heights = np_heights[np_positions != \"GK\"]\n",
    "\n",
    "# Print out the median height of goalkeepers. Replace 'None'\n",
    "print(\"Median height of goalkeepers: \" + str(np.median(gk_heights)))\n",
    "\n",
    "# Print out the median height of other players. Replace 'None'\n",
    "print(\"Median height of other players: \" + str(np.median(other_heights)))"
   ]
  }
 ],
 "metadata": {
  "kernelspec": {
   "display_name": "Python 2",
   "language": "python",
   "name": "python2"
  },
  "language_info": {
   "codemirror_mode": {
    "name": "ipython",
    "version": 2
   },
   "file_extension": ".py",
   "mimetype": "text/x-python",
   "name": "python",
   "nbconvert_exporter": "python",
   "pygments_lexer": "ipython2",
   "version": "2.7.9"
  }
 },
 "nbformat": 4,
 "nbformat_minor": 0
}
