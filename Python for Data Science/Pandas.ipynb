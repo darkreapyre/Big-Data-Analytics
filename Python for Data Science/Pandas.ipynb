{
 "cells": [
  {
   "cell_type": "markdown",
   "metadata": {
    "collapsed": true
   },
   "source": [
    "# Pandas\n",
    "## Introduction\n",
    "When working with data, as a Data Scientist, the quantity and structure can significantly vary. Therefore it is a common practice as part of the __Data Exploration__ phase, to lay it out in a tabular structure. The resultant \"table\" contains the different variables (__columns__) and every observation of those variables (__rows__). So to start working with this tabular structure in Python, we can leverage the two-dimensional numpy array or a dictionary.\n",
    "\n",
    "The problem with using the numpy array is that the array can only contain elements of the same data type and as mentioned at the outset, massive quantities of data hardly ever have the same types of data. Added to that, although the dictionaly can contain differnt data types, its structure can be difficult to view and manipulate programatically.\n",
    "\n",
    "Therefore, a better option is to use the __Pandas__ package. Pandas is a high level data manipulation tool that is built on top of the numpy package. Compared to numpy it is significantly more \"high-level\", meaning that it's far easier to view and manipulate data because tabular data is stored in a DataFrame. The DataFrame is one of Pandas' most important data structures, it's basically a way to store tabular data, where we can label the rows and the columns. One way to build a DataFrame is from a Python dictionary. The following example shows how to manually create a [__BRICS__](https://en.wikipedia.org/wiki/BRICS) DataFrame from a python dictionary."
   ]
  },
  {
   "cell_type": "code",
   "execution_count": 1,
   "metadata": {
    "collapsed": false
   },
   "outputs": [
    {
     "data": {
      "text/html": [
       "<div style=\"max-height:1000px;max-width:1500px;overflow:auto;\">\n",
       "<table border=\"1\" class=\"dataframe\">\n",
       "  <thead>\n",
       "    <tr style=\"text-align: right;\">\n",
       "      <th></th>\n",
       "      <th>area</th>\n",
       "      <th>capital</th>\n",
       "      <th>country</th>\n",
       "      <th>population</th>\n",
       "    </tr>\n",
       "  </thead>\n",
       "  <tbody>\n",
       "    <tr>\n",
       "      <th>0</th>\n",
       "      <td>  8.516</td>\n",
       "      <td>  Brasilia</td>\n",
       "      <td>       Brazil</td>\n",
       "      <td>  200.40</td>\n",
       "    </tr>\n",
       "    <tr>\n",
       "      <th>1</th>\n",
       "      <td> 17.100</td>\n",
       "      <td>    Moscow</td>\n",
       "      <td>       Russia</td>\n",
       "      <td>  143.50</td>\n",
       "    </tr>\n",
       "    <tr>\n",
       "      <th>2</th>\n",
       "      <td>  3.286</td>\n",
       "      <td> New Delhi</td>\n",
       "      <td>        India</td>\n",
       "      <td> 1252.00</td>\n",
       "    </tr>\n",
       "    <tr>\n",
       "      <th>3</th>\n",
       "      <td>  9.597</td>\n",
       "      <td>   Beijing</td>\n",
       "      <td>        China</td>\n",
       "      <td> 1357.00</td>\n",
       "    </tr>\n",
       "    <tr>\n",
       "      <th>4</th>\n",
       "      <td>  1.221</td>\n",
       "      <td>  Pretoria</td>\n",
       "      <td> South Africa</td>\n",
       "      <td>   52.98</td>\n",
       "    </tr>\n",
       "  </tbody>\n",
       "</table>\n",
       "</div>"
      ],
      "text/plain": [
       "     area    capital       country  population\n",
       "0   8.516   Brasilia        Brazil      200.40\n",
       "1  17.100     Moscow        Russia      143.50\n",
       "2   3.286  New Delhi         India     1252.00\n",
       "3   9.597    Beijing         China     1357.00\n",
       "4   1.221   Pretoria  South Africa       52.98"
      ]
     },
     "execution_count": 1,
     "metadata": {},
     "output_type": "execute_result"
    }
   ],
   "source": [
    "# Create the brics dictionary\n",
    "dict = {\n",
    "    \"country\":[\"Brazil\", \"Russia\", \"India\", \"China\", \"South Africa\"],\n",
    "    \"capital\":[\"Brasilia\", \"Moscow\", \"New Delhi\", \"Beijing\", \"Pretoria\"],\n",
    "    \"area\":[8.516, 17.10, 3.286, 9.597, 1.221],\n",
    "    \"population\":[200.4, 143.5, 1252, 1357, 52.98]\n",
    "}\n",
    "\n",
    "# Import Pandas\n",
    "import pandas as pd\n",
    "\n",
    "# Create the brics dataframe\n",
    "brics = pd.DataFrame(dict)\n",
    "brics"
   ]
  },
  {
   "cell_type": "markdown",
   "metadata": {},
   "source": [
    "The code above highlights some of the complexity already mentioned. When creating the dictionary, we are creating __`<key:value>`__ pairs, without any tabular structure for future manipulations. We are manually structuring the data so that the __Keys__ are the column labels and __values__ are the corresponding colum data in list form, with each list having a specific data type. Although this seems somewhat straight forward, it can very difficult to create this at scale. \n",
    "\n",
    "By creating the Pandas DataFrame from the dictionary, we can clearly see the tabular structure and thus the structure is more conducive to understanding and manipulating the data. For easier indexing, Pandas automatically assigns row labels, $[0-4]$, but these can also be changed by creating a list of row labels:"
   ]
  },
  {
   "cell_type": "code",
   "execution_count": 2,
   "metadata": {
    "collapsed": false
   },
   "outputs": [
    {
     "data": {
      "text/html": [
       "<div style=\"max-height:1000px;max-width:1500px;overflow:auto;\">\n",
       "<table border=\"1\" class=\"dataframe\">\n",
       "  <thead>\n",
       "    <tr style=\"text-align: right;\">\n",
       "      <th></th>\n",
       "      <th>area</th>\n",
       "      <th>capital</th>\n",
       "      <th>country</th>\n",
       "      <th>population</th>\n",
       "    </tr>\n",
       "  </thead>\n",
       "  <tbody>\n",
       "    <tr>\n",
       "      <th>BR</th>\n",
       "      <td>  8.516</td>\n",
       "      <td>  Brasilia</td>\n",
       "      <td>       Brazil</td>\n",
       "      <td>  200.40</td>\n",
       "    </tr>\n",
       "    <tr>\n",
       "      <th>RU</th>\n",
       "      <td> 17.100</td>\n",
       "      <td>    Moscow</td>\n",
       "      <td>       Russia</td>\n",
       "      <td>  143.50</td>\n",
       "    </tr>\n",
       "    <tr>\n",
       "      <th>IN</th>\n",
       "      <td>  3.286</td>\n",
       "      <td> New Delhi</td>\n",
       "      <td>        India</td>\n",
       "      <td> 1252.00</td>\n",
       "    </tr>\n",
       "    <tr>\n",
       "      <th>CH</th>\n",
       "      <td>  9.597</td>\n",
       "      <td>   Beijing</td>\n",
       "      <td>        China</td>\n",
       "      <td> 1357.00</td>\n",
       "    </tr>\n",
       "    <tr>\n",
       "      <th>SA</th>\n",
       "      <td>  1.221</td>\n",
       "      <td>  Pretoria</td>\n",
       "      <td> South Africa</td>\n",
       "      <td>   52.98</td>\n",
       "    </tr>\n",
       "  </tbody>\n",
       "</table>\n",
       "</div>"
      ],
      "text/plain": [
       "      area    capital       country  population\n",
       "BR   8.516   Brasilia        Brazil      200.40\n",
       "RU  17.100     Moscow        Russia      143.50\n",
       "IN   3.286  New Delhi         India     1252.00\n",
       "CH   9.597    Beijing         China     1357.00\n",
       "SA   1.221   Pretoria  South Africa       52.98"
      ]
     },
     "execution_count": 2,
     "metadata": {},
     "output_type": "execute_result"
    }
   ],
   "source": [
    "# Create index list\n",
    "brics.index = [\"BR\", \"RU\", \"IN\", \"CH\", \"SA\"]\n",
    "brics"
   ]
  },
  {
   "cell_type": "markdown",
   "metadata": {},
   "source": [
    "Although we've highlighted the __manual__ creation of a Pandas DataFrame from a Python dictionary, most data is typically available as files with a regular structure. One of those file types is the __CSV file__, which is short for \"comma-separated values\". Pandas includes a function, `read_csv()` that allows us to import the data. The syntax is as follows:\n",
    "```\n",
    "brics = pd.read_csv(\"<path to data.csv>\", index_col = <column number as index>)\n",
    "```\n",
    "The `read_csv()` function has many more arguments that allow for futher customization of the data being imported."
   ]
  },
  {
   "cell_type": "markdown",
   "metadata": {},
   "source": [
    "## Data Manipulation with Pandas DataFrames\n",
    "There are numerous ways in which we can index and select data from DataFrames:\n",
    "- `[]`\n",
    "- `loc`\n",
    "- `iloc`\n"
   ]
  }
 ],
 "metadata": {
  "kernelspec": {
   "display_name": "Python 2",
   "language": "python",
   "name": "python2"
  },
  "language_info": {
   "codemirror_mode": {
    "name": "ipython",
    "version": 2
   },
   "file_extension": ".py",
   "mimetype": "text/x-python",
   "name": "python",
   "nbconvert_exporter": "python",
   "pygments_lexer": "ipython2",
   "version": "2.7.9"
  }
 },
 "nbformat": 4,
 "nbformat_minor": 0
}
