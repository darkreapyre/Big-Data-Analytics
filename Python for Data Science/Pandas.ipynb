{
 "cells": [
  {
   "cell_type": "markdown",
   "metadata": {
    "collapsed": true
   },
   "source": [
    "# Pandas\n",
    "When working with data, as a Data Scientist, the quantity and structure can significantly vary. Therefore it is a common practice as part of the __Data Exploration__ phase, to lay it out in a tabular structure. The resultant \"table\" contains the different variables (__columns__) and every observation of those variables (__rows__). So to start working with this tabular structure in Python, we can leverage the two-dimensional numpy array or a dictionary.\n",
    "\n",
    "The problem with using the numpy array is that the array can only contain elements of the same data type and as mentioned at the outset, massive quantities of data hardly ever have the same types of data. Added to that, although the dictionaly can contain differnt data types, its structure can be difficult to view and manipulate programatically.\n",
    "\n",
    "Therefore, a better option is to use the __Pandas__ package. Pandas is a high level data manipulation tool that is built on top of the numpy package. Compared to numpy it is significantly more \"high-level\", meaning that it's far easier to view and manipulate data because tabular data is stored in a DataFrame. The DataFrame is one of Pandas' most important data structures, it's basically a way to store tabular data, where we can label the rows and the columns. One way to build a DataFrame is from a Python dictionary. The following example shows how to manually create a [__BRICS__](https://en.wikipedia.org/wiki/BRICS) DataFrame from a python dictionary."
   ]
  },
  {
   "cell_type": "code",
   "execution_count": 1,
   "metadata": {
    "collapsed": false
   },
   "outputs": [
    {
     "data": {
      "text/html": [
       "<div style=\"max-height:1000px;max-width:1500px;overflow:auto;\">\n",
       "<table border=\"1\" class=\"dataframe\">\n",
       "  <thead>\n",
       "    <tr style=\"text-align: right;\">\n",
       "      <th></th>\n",
       "      <th>area</th>\n",
       "      <th>capital</th>\n",
       "      <th>country</th>\n",
       "      <th>population</th>\n",
       "    </tr>\n",
       "  </thead>\n",
       "  <tbody>\n",
       "    <tr>\n",
       "      <th>0</th>\n",
       "      <td>  8.516</td>\n",
       "      <td>  Brasilia</td>\n",
       "      <td>       Brazil</td>\n",
       "      <td>  200.40</td>\n",
       "    </tr>\n",
       "    <tr>\n",
       "      <th>1</th>\n",
       "      <td> 17.100</td>\n",
       "      <td>    Moscow</td>\n",
       "      <td>       Russia</td>\n",
       "      <td>  143.50</td>\n",
       "    </tr>\n",
       "    <tr>\n",
       "      <th>2</th>\n",
       "      <td>  3.286</td>\n",
       "      <td> New Delhi</td>\n",
       "      <td>        India</td>\n",
       "      <td> 1252.00</td>\n",
       "    </tr>\n",
       "    <tr>\n",
       "      <th>3</th>\n",
       "      <td>  9.597</td>\n",
       "      <td>   Beijing</td>\n",
       "      <td>        China</td>\n",
       "      <td> 1357.00</td>\n",
       "    </tr>\n",
       "    <tr>\n",
       "      <th>4</th>\n",
       "      <td>  1.221</td>\n",
       "      <td>  Pretoria</td>\n",
       "      <td> South Africa</td>\n",
       "      <td>   52.98</td>\n",
       "    </tr>\n",
       "  </tbody>\n",
       "</table>\n",
       "</div>"
      ],
      "text/plain": [
       "     area    capital       country  population\n",
       "0   8.516   Brasilia        Brazil      200.40\n",
       "1  17.100     Moscow        Russia      143.50\n",
       "2   3.286  New Delhi         India     1252.00\n",
       "3   9.597    Beijing         China     1357.00\n",
       "4   1.221   Pretoria  South Africa       52.98"
      ]
     },
     "execution_count": 1,
     "metadata": {},
     "output_type": "execute_result"
    }
   ],
   "source": [
    "# Create the brics dictionary\n",
    "dict = {\n",
    "    \"country\":[\"Brazil\", \"Russia\", \"India\",\n",
    "               \"China\", \"South Africa\"],\n",
    "    \"capital\":[\"Brasilia\", \"Moscow\", \"New Delhi\",\n",
    "               \"Beijing\", \"Pretoria\"],\n",
    "    \"area\":[8.516, 17.10, 3.286, 9.597, 1.221],\n",
    "    \"population\":[200.4, 143.5, 1252, 1357, 52.98]\n",
    "}\n",
    "\n",
    "# Import Pandas\n",
    "import pandas as pd\n",
    "\n",
    "# Create the brics dataframe\n",
    "brics = pd.DataFrame(dict)\n",
    "brics"
   ]
  },
  {
   "cell_type": "markdown",
   "metadata": {},
   "source": [
    "The code above highlights some of the complexity already mentioned. When creating the dictionary, we are creating __`<key:value>`__ pairs, without any tabular structure for future manipulations. We are manually structuring the data so that the __Keys__ are the column labels and __values__ are the corresponding colum data in list form, with each list having a specific data type. Although this seems somewhat straight forward, it can very difficult to create this at scale. \n",
    "\n",
    "By creating the Pandas DataFrame from the dictionary, we can clearly see the tabular structure and thus the structure is more conducive to understanding and manipulating the data. For easier indexing, Pandas automatically assigns row labels, $[0-4]$, but these can also be changed by creating a list of row labels:"
   ]
  },
  {
   "cell_type": "code",
   "execution_count": 2,
   "metadata": {
    "collapsed": false
   },
   "outputs": [
    {
     "data": {
      "text/html": [
       "<div style=\"max-height:1000px;max-width:1500px;overflow:auto;\">\n",
       "<table border=\"1\" class=\"dataframe\">\n",
       "  <thead>\n",
       "    <tr style=\"text-align: right;\">\n",
       "      <th></th>\n",
       "      <th>area</th>\n",
       "      <th>capital</th>\n",
       "      <th>country</th>\n",
       "      <th>population</th>\n",
       "    </tr>\n",
       "  </thead>\n",
       "  <tbody>\n",
       "    <tr>\n",
       "      <th>BR</th>\n",
       "      <td>  8.516</td>\n",
       "      <td>  Brasilia</td>\n",
       "      <td>       Brazil</td>\n",
       "      <td>  200.40</td>\n",
       "    </tr>\n",
       "    <tr>\n",
       "      <th>RU</th>\n",
       "      <td> 17.100</td>\n",
       "      <td>    Moscow</td>\n",
       "      <td>       Russia</td>\n",
       "      <td>  143.50</td>\n",
       "    </tr>\n",
       "    <tr>\n",
       "      <th>IN</th>\n",
       "      <td>  3.286</td>\n",
       "      <td> New Delhi</td>\n",
       "      <td>        India</td>\n",
       "      <td> 1252.00</td>\n",
       "    </tr>\n",
       "    <tr>\n",
       "      <th>CH</th>\n",
       "      <td>  9.597</td>\n",
       "      <td>   Beijing</td>\n",
       "      <td>        China</td>\n",
       "      <td> 1357.00</td>\n",
       "    </tr>\n",
       "    <tr>\n",
       "      <th>SA</th>\n",
       "      <td>  1.221</td>\n",
       "      <td>  Pretoria</td>\n",
       "      <td> South Africa</td>\n",
       "      <td>   52.98</td>\n",
       "    </tr>\n",
       "  </tbody>\n",
       "</table>\n",
       "</div>"
      ],
      "text/plain": [
       "      area    capital       country  population\n",
       "BR   8.516   Brasilia        Brazil      200.40\n",
       "RU  17.100     Moscow        Russia      143.50\n",
       "IN   3.286  New Delhi         India     1252.00\n",
       "CH   9.597    Beijing         China     1357.00\n",
       "SA   1.221   Pretoria  South Africa       52.98"
      ]
     },
     "execution_count": 2,
     "metadata": {},
     "output_type": "execute_result"
    }
   ],
   "source": [
    "# Create index list\n",
    "brics.index = [\"BR\", \"RU\", \"IN\", \"CH\", \"SA\"]\n",
    "brics"
   ]
  },
  {
   "cell_type": "markdown",
   "metadata": {},
   "source": [
    "Although we've highlighted the __manual__ creation of a Pandas DataFrame from a Python dictionary, most data is typically available as files with a regular structure. One of those file types is the __CSV file__, which is short for \"comma-separated values\". Pandas includes a function, `read_csv()` that allows us to import the data. An example of the syntax is as follows:\n",
    "```\n",
    "brics = pd.read_csv(\"<path to data.csv>\", index_col = <column number as index>)\n",
    "```\n",
    "The `read_csv()` function has many more arguments that allow for futher customization of the data being imported, but of key iimport is to make sure the rows and colums are have appropriate labels. This is to ensure that accessing columns, rows and single elements is an easy task. \n",
    "\n",
    "There are numerous ways in which we can index and select data from DataFrames. The __first__ method is to utilize square brackets. In the following example, we will utilize square brackets to select an indivdual column, by referencing the column label. "
   ]
  },
  {
   "cell_type": "code",
   "execution_count": 3,
   "metadata": {
    "collapsed": false
   },
   "outputs": [
    {
     "data": {
      "text/plain": [
       "BR          Brazil\n",
       "RU          Russia\n",
       "IN           India\n",
       "CH           China\n",
       "SA    South Africa\n",
       "Name: country, dtype: object"
      ]
     },
     "execution_count": 3,
     "metadata": {},
     "output_type": "execute_result"
    }
   ],
   "source": [
    "# Select `country` column\n",
    "brics[\"country\"]"
   ]
  },
  {
   "cell_type": "markdown",
   "metadata": {},
   "source": [
    "Python prints out the entire colum, together with the row labels. Note however, that the data type returned is a Pandas Series object. This is a labeled one dimensional array, that in essense, when put together create a DataFrame. So if we wanted to select the `country` column, but keep the data in the DataFrame, we would use the following syntax:"
   ]
  },
  {
   "cell_type": "code",
   "execution_count": 4,
   "metadata": {
    "collapsed": false
   },
   "outputs": [
    {
     "data": {
      "text/html": [
       "<div style=\"max-height:1000px;max-width:1500px;overflow:auto;\">\n",
       "<table border=\"1\" class=\"dataframe\">\n",
       "  <thead>\n",
       "    <tr style=\"text-align: right;\">\n",
       "      <th></th>\n",
       "      <th>country</th>\n",
       "    </tr>\n",
       "  </thead>\n",
       "  <tbody>\n",
       "    <tr>\n",
       "      <th>BR</th>\n",
       "      <td>       Brazil</td>\n",
       "    </tr>\n",
       "    <tr>\n",
       "      <th>RU</th>\n",
       "      <td>       Russia</td>\n",
       "    </tr>\n",
       "    <tr>\n",
       "      <th>IN</th>\n",
       "      <td>        India</td>\n",
       "    </tr>\n",
       "    <tr>\n",
       "      <th>CH</th>\n",
       "      <td>        China</td>\n",
       "    </tr>\n",
       "    <tr>\n",
       "      <th>SA</th>\n",
       "      <td> South Africa</td>\n",
       "    </tr>\n",
       "  </tbody>\n",
       "</table>\n",
       "</div>"
      ],
      "text/plain": [
       "         country\n",
       "BR        Brazil\n",
       "RU        Russia\n",
       "IN         India\n",
       "CH         China\n",
       "SA  South Africa"
      ]
     },
     "execution_count": 4,
     "metadata": {},
     "output_type": "execute_result"
    }
   ],
   "source": [
    "# Output as a DataFrame\n",
    "brics[[\"country\"]]"
   ]
  },
  {
   "cell_type": "markdown",
   "metadata": {},
   "source": [
    "We can extend this call to select two columns, which is in essense putting together a list of column labels inside another set of square brackets, which produces a sub-DataFrame."
   ]
  },
  {
   "cell_type": "code",
   "execution_count": 5,
   "metadata": {
    "collapsed": false
   },
   "outputs": [
    {
     "data": {
      "text/html": [
       "<div style=\"max-height:1000px;max-width:1500px;overflow:auto;\">\n",
       "<table border=\"1\" class=\"dataframe\">\n",
       "  <thead>\n",
       "    <tr style=\"text-align: right;\">\n",
       "      <th></th>\n",
       "      <th>country</th>\n",
       "      <th>capital</th>\n",
       "    </tr>\n",
       "  </thead>\n",
       "  <tbody>\n",
       "    <tr>\n",
       "      <th>BR</th>\n",
       "      <td>       Brazil</td>\n",
       "      <td>  Brasilia</td>\n",
       "    </tr>\n",
       "    <tr>\n",
       "      <th>RU</th>\n",
       "      <td>       Russia</td>\n",
       "      <td>    Moscow</td>\n",
       "    </tr>\n",
       "    <tr>\n",
       "      <th>IN</th>\n",
       "      <td>        India</td>\n",
       "      <td> New Delhi</td>\n",
       "    </tr>\n",
       "    <tr>\n",
       "      <th>CH</th>\n",
       "      <td>        China</td>\n",
       "      <td>   Beijing</td>\n",
       "    </tr>\n",
       "    <tr>\n",
       "      <th>SA</th>\n",
       "      <td> South Africa</td>\n",
       "      <td>  Pretoria</td>\n",
       "    </tr>\n",
       "  </tbody>\n",
       "</table>\n",
       "</div>"
      ],
      "text/plain": [
       "         country    capital\n",
       "BR        Brazil   Brasilia\n",
       "RU        Russia     Moscow\n",
       "IN         India  New Delhi\n",
       "CH         China    Beijing\n",
       "SA  South Africa   Pretoria"
      ]
     },
     "execution_count": 5,
     "metadata": {},
     "output_type": "execute_result"
    }
   ],
   "source": [
    "# Select two columns\n",
    "brics[[\"country\", \"capital\"]]"
   ]
  },
  {
   "cell_type": "markdown",
   "metadata": {},
   "source": [
    "Square brackets can also be used to select rows from a dataframe, by specifying a slice. __Remember__ that the end of the slice is not included and that the index starts at $0$. For example:"
   ]
  },
  {
   "cell_type": "code",
   "execution_count": 6,
   "metadata": {
    "collapsed": false
   },
   "outputs": [
    {
     "data": {
      "text/html": [
       "<div style=\"max-height:1000px;max-width:1500px;overflow:auto;\">\n",
       "<table border=\"1\" class=\"dataframe\">\n",
       "  <thead>\n",
       "    <tr style=\"text-align: right;\">\n",
       "      <th></th>\n",
       "      <th>area</th>\n",
       "      <th>capital</th>\n",
       "      <th>country</th>\n",
       "      <th>population</th>\n",
       "    </tr>\n",
       "  </thead>\n",
       "  <tbody>\n",
       "    <tr>\n",
       "      <th>RU</th>\n",
       "      <td> 17.100</td>\n",
       "      <td>    Moscow</td>\n",
       "      <td> Russia</td>\n",
       "      <td>  143.5</td>\n",
       "    </tr>\n",
       "    <tr>\n",
       "      <th>IN</th>\n",
       "      <td>  3.286</td>\n",
       "      <td> New Delhi</td>\n",
       "      <td>  India</td>\n",
       "      <td> 1252.0</td>\n",
       "    </tr>\n",
       "    <tr>\n",
       "      <th>CH</th>\n",
       "      <td>  9.597</td>\n",
       "      <td>   Beijing</td>\n",
       "      <td>  China</td>\n",
       "      <td> 1357.0</td>\n",
       "    </tr>\n",
       "  </tbody>\n",
       "</table>\n",
       "</div>"
      ],
      "text/plain": [
       "      area    capital country  population\n",
       "RU  17.100     Moscow  Russia       143.5\n",
       "IN   3.286  New Delhi   India      1252.0\n",
       "CH   9.597    Beijing   China      1357.0"
      ]
     },
     "execution_count": 6,
     "metadata": {},
     "output_type": "execute_result"
    }
   ],
   "source": [
    "# Rows 1 - 4\n",
    "brics[1:4]"
   ]
  },
  {
   "cell_type": "markdown",
   "metadata": {},
   "source": [
    "This usage of square brackets to select rows and colums is the extent of its functionality. Ideally, the functionality of two-dimensional numpy arrays is far more useful, where we also use square bracks, but the index (or slice) before the comma refers to the rows and the index (or slice) after the comma refers to the columns:\n",
    "```\n",
    "my_array[<rows>, <columns>]\n",
    "```\n",
    "Pandas allows for this similar functionality with the `loc()` and `iloc()` functions. The `loc()` function selects parts of the DataFrame based on the __label__, while the `iloc()` function is __position-based__.\n",
    "\n",
    "The following example demonstrates row access with the `loc()` function, by putting the label of a particular row as the argument:"
   ]
  },
  {
   "cell_type": "code",
   "execution_count": 7,
   "metadata": {
    "collapsed": false
   },
   "outputs": [
    {
     "data": {
      "text/plain": [
       "area            17.1\n",
       "capital       Moscow\n",
       "country       Russia\n",
       "population     143.5\n",
       "Name: RU, dtype: object"
      ]
     },
     "execution_count": 7,
     "metadata": {},
     "output_type": "execute_result"
    }
   ],
   "source": [
    "# Select the row for Russia\n",
    "brics.loc[\"RU\"]"
   ]
  },
  {
   "cell_type": "markdown",
   "metadata": {},
   "source": [
    "Once again, the output is a Pandas Series object with the row data shown on different lines (as a vector). So to make the output conform to the original tabular data, we have to output the data as a DataFrame:"
   ]
  },
  {
   "cell_type": "code",
   "execution_count": 8,
   "metadata": {
    "collapsed": false
   },
   "outputs": [
    {
     "data": {
      "text/html": [
       "<div style=\"max-height:1000px;max-width:1500px;overflow:auto;\">\n",
       "<table border=\"1\" class=\"dataframe\">\n",
       "  <thead>\n",
       "    <tr style=\"text-align: right;\">\n",
       "      <th></th>\n",
       "      <th>area</th>\n",
       "      <th>capital</th>\n",
       "      <th>country</th>\n",
       "      <th>population</th>\n",
       "    </tr>\n",
       "  </thead>\n",
       "  <tbody>\n",
       "    <tr>\n",
       "      <th>RU</th>\n",
       "      <td> 17.1</td>\n",
       "      <td> Moscow</td>\n",
       "      <td> Russia</td>\n",
       "      <td> 143.5</td>\n",
       "    </tr>\n",
       "  </tbody>\n",
       "</table>\n",
       "</div>"
      ],
      "text/plain": [
       "    area capital country  population\n",
       "RU  17.1  Moscow  Russia       143.5"
      ]
     },
     "execution_count": 8,
     "metadata": {},
     "output_type": "execute_result"
    }
   ],
   "source": [
    "# Select Russia row as a DataFrame\n",
    "brics.loc[[\"RU\"]]"
   ]
  },
  {
   "cell_type": "markdown",
   "metadata": {},
   "source": [
    "As shown, the entire row is returned, but that is exactly the same function that square brackets performs. They key difference though is that the `loc()` functional allows us to extend the specification with a comma and another list of the columns we wish to select. For example, we can extend the previous example to only include the `country` and `capital` colums when we select the row, thus returning the intersection of the rows and columns:"
   ]
  },
  {
   "cell_type": "code",
   "execution_count": 9,
   "metadata": {
    "collapsed": false
   },
   "outputs": [
    {
     "data": {
      "text/html": [
       "<div style=\"max-height:1000px;max-width:1500px;overflow:auto;\">\n",
       "<table border=\"1\" class=\"dataframe\">\n",
       "  <thead>\n",
       "    <tr style=\"text-align: right;\">\n",
       "      <th></th>\n",
       "      <th>capital</th>\n",
       "      <th>country</th>\n",
       "    </tr>\n",
       "  </thead>\n",
       "  <tbody>\n",
       "    <tr>\n",
       "      <th>RU</th>\n",
       "      <td> Moscow</td>\n",
       "      <td> Russia</td>\n",
       "    </tr>\n",
       "  </tbody>\n",
       "</table>\n",
       "</div>"
      ],
      "text/plain": [
       "   capital country\n",
       "RU  Moscow  Russia"
      ]
     },
     "execution_count": 9,
     "metadata": {},
     "output_type": "execute_result"
    }
   ],
   "source": [
    "# Only include capital and country\n",
    "brics.loc[[\"RU\"], [\"capital\", \"country\"]]"
   ]
  },
  {
   "cell_type": "markdown",
   "metadata": {},
   "source": [
    "The `loc()` function can also be used to select all the rows, but only a specific columns. We do this by simply replacing the row index with a \":\", a slice going from start to finish. For example:"
   ]
  },
  {
   "cell_type": "code",
   "execution_count": 10,
   "metadata": {
    "collapsed": false
   },
   "outputs": [
    {
     "data": {
      "text/html": [
       "<div style=\"max-height:1000px;max-width:1500px;overflow:auto;\">\n",
       "<table border=\"1\" class=\"dataframe\">\n",
       "  <thead>\n",
       "    <tr style=\"text-align: right;\">\n",
       "      <th></th>\n",
       "      <th>country</th>\n",
       "      <th>capital</th>\n",
       "    </tr>\n",
       "  </thead>\n",
       "  <tbody>\n",
       "    <tr>\n",
       "      <th>BR</th>\n",
       "      <td>       Brazil</td>\n",
       "      <td>  Brasilia</td>\n",
       "    </tr>\n",
       "    <tr>\n",
       "      <th>RU</th>\n",
       "      <td>       Russia</td>\n",
       "      <td>    Moscow</td>\n",
       "    </tr>\n",
       "    <tr>\n",
       "      <th>IN</th>\n",
       "      <td>        India</td>\n",
       "      <td> New Delhi</td>\n",
       "    </tr>\n",
       "    <tr>\n",
       "      <th>CH</th>\n",
       "      <td>        China</td>\n",
       "      <td>   Beijing</td>\n",
       "    </tr>\n",
       "    <tr>\n",
       "      <th>SA</th>\n",
       "      <td> South Africa</td>\n",
       "      <td>  Pretoria</td>\n",
       "    </tr>\n",
       "  </tbody>\n",
       "</table>\n",
       "</div>"
      ],
      "text/plain": [
       "         country    capital\n",
       "BR        Brazil   Brasilia\n",
       "RU        Russia     Moscow\n",
       "IN         India  New Delhi\n",
       "CH         China    Beijing\n",
       "SA  South Africa   Pretoria"
      ]
     },
     "execution_count": 10,
     "metadata": {},
     "output_type": "execute_result"
    }
   ],
   "source": [
    "# Select all rows; specific columns\n",
    "brics.loc[:, [\"country\", \"capital\"]]"
   ]
  },
  {
   "cell_type": "markdown",
   "metadata": {},
   "source": [
    "This time the intersections spans all the rows, but only the two columns specified. So as can be seen from these examples, the use of the `loc()` function, subsetting becomes very similar to usinf two-dimensional numpy arrays. The only difference is thst we use row labels, not the position of the elements. \n",
    "\n",
    "If we wish to subset Pandas DataFrames based on the element position (or index), then we have to use the `iloc()` function. So if we go back to the previous example of selecting the row for `Russia`, with the `loc()` function , we specified the row label \"RU\". With the `iloc()` function we specify the index:"
   ]
  },
  {
   "cell_type": "code",
   "execution_count": 11,
   "metadata": {
    "collapsed": false
   },
   "outputs": [
    {
     "data": {
      "text/html": [
       "<div style=\"max-height:1000px;max-width:1500px;overflow:auto;\">\n",
       "<table border=\"1\" class=\"dataframe\">\n",
       "  <thead>\n",
       "    <tr style=\"text-align: right;\">\n",
       "      <th></th>\n",
       "      <th>area</th>\n",
       "      <th>capital</th>\n",
       "      <th>country</th>\n",
       "      <th>population</th>\n",
       "    </tr>\n",
       "  </thead>\n",
       "  <tbody>\n",
       "    <tr>\n",
       "      <th>RU</th>\n",
       "      <td> 17.1</td>\n",
       "      <td> Moscow</td>\n",
       "      <td> Russia</td>\n",
       "      <td> 143.5</td>\n",
       "    </tr>\n",
       "  </tbody>\n",
       "</table>\n",
       "</div>"
      ],
      "text/plain": [
       "    area capital country  population\n",
       "RU  17.1  Moscow  Russia       143.5"
      ]
     },
     "execution_count": 11,
     "metadata": {},
     "output_type": "execute_result"
    }
   ],
   "source": [
    "# Select the row for Russia: index 1\n",
    "brics.iloc[[1]]"
   ]
  },
  {
   "cell_type": "markdown",
   "metadata": {},
   "source": [
    "The results are exactly the same as the `loc()` function. The same applies when selecting the row for `russia`, but the `capital` and `country` columns."
   ]
  },
  {
   "cell_type": "code",
   "execution_count": 12,
   "metadata": {
    "collapsed": false
   },
   "outputs": [
    {
     "data": {
      "text/html": [
       "<div style=\"max-height:1000px;max-width:1500px;overflow:auto;\">\n",
       "<table border=\"1\" class=\"dataframe\">\n",
       "  <thead>\n",
       "    <tr style=\"text-align: right;\">\n",
       "      <th></th>\n",
       "      <th>capital</th>\n",
       "      <th>country</th>\n",
       "    </tr>\n",
       "  </thead>\n",
       "  <tbody>\n",
       "    <tr>\n",
       "      <th>RU</th>\n",
       "      <td> Moscow</td>\n",
       "      <td> Russia</td>\n",
       "    </tr>\n",
       "  </tbody>\n",
       "</table>\n",
       "</div>"
      ],
      "text/plain": [
       "   capital country\n",
       "RU  Moscow  Russia"
      ]
     },
     "execution_count": 12,
     "metadata": {},
     "output_type": "execute_result"
    }
   ],
   "source": [
    "# Only include capital and country with index\n",
    "brics.iloc[[1], [1, 2]]"
   ]
  },
  {
   "cell_type": "markdown",
   "metadata": {},
   "source": [
    "As with the `loc()` function, we can select all the rows, but only a specific columns."
   ]
  },
  {
   "cell_type": "code",
   "execution_count": 13,
   "metadata": {
    "collapsed": false
   },
   "outputs": [
    {
     "data": {
      "text/html": [
       "<div style=\"max-height:1000px;max-width:1500px;overflow:auto;\">\n",
       "<table border=\"1\" class=\"dataframe\">\n",
       "  <thead>\n",
       "    <tr style=\"text-align: right;\">\n",
       "      <th></th>\n",
       "      <th>capital</th>\n",
       "      <th>country</th>\n",
       "    </tr>\n",
       "  </thead>\n",
       "  <tbody>\n",
       "    <tr>\n",
       "      <th>BR</th>\n",
       "      <td>  Brasilia</td>\n",
       "      <td>       Brazil</td>\n",
       "    </tr>\n",
       "    <tr>\n",
       "      <th>RU</th>\n",
       "      <td>    Moscow</td>\n",
       "      <td>       Russia</td>\n",
       "    </tr>\n",
       "    <tr>\n",
       "      <th>IN</th>\n",
       "      <td> New Delhi</td>\n",
       "      <td>        India</td>\n",
       "    </tr>\n",
       "    <tr>\n",
       "      <th>CH</th>\n",
       "      <td>   Beijing</td>\n",
       "      <td>        China</td>\n",
       "    </tr>\n",
       "    <tr>\n",
       "      <th>SA</th>\n",
       "      <td>  Pretoria</td>\n",
       "      <td> South Africa</td>\n",
       "    </tr>\n",
       "  </tbody>\n",
       "</table>\n",
       "</div>"
      ],
      "text/plain": [
       "      capital       country\n",
       "BR   Brasilia        Brazil\n",
       "RU     Moscow        Russia\n",
       "IN  New Delhi         India\n",
       "CH    Beijing         China\n",
       "SA   Pretoria  South Africa"
      ]
     },
     "execution_count": 13,
     "metadata": {},
     "output_type": "execute_result"
    }
   ],
   "source": [
    "# Select all rows; specific columns\n",
    "brics.iloc[:, [1, 2]]"
   ]
  },
  {
   "cell_type": "markdown",
   "metadata": {},
   "source": [
    "To summarize,\n",
    "- `loc()` works on labels in the index.\n",
    "- `iloc()`1 works on the positions in the index (so it only takes integers).\n",
    "\n",
    "As a __side note__,  we can also combine label-based selection the `loc()` way and index-based selection the `iloc()` way with the `ix()` function, but that is covered here. \n",
    "\n",
    "So how then can we apply all of the above infomration to Data Science? The next example involves performing subsetting and filtering on the Pandas DataFrame. The goal for this example is to use the __BRICS__ data and select only the countries with an `area` over $8\\,Million\\,km^{2}$. This will be done in $3$ steps:\n",
    "\n",
    "1. Select the `area` column from BRICS.\n",
    "2. Perform a comparison on the output and store the results.\n",
    "3. Use the result to select the matching countries from the DataFrame."
   ]
  },
  {
   "cell_type": "code",
   "execution_count": 14,
   "metadata": {
    "collapsed": false
   },
   "outputs": [
    {
     "data": {
      "text/plain": [
       "BR     8.516\n",
       "RU    17.100\n",
       "IN     3.286\n",
       "CH     9.597\n",
       "SA     1.221\n",
       "Name: area, dtype: float64"
      ]
     },
     "execution_count": 14,
     "metadata": {},
     "output_type": "execute_result"
    }
   ],
   "source": [
    "# Step 1. Get the `area` column from BRICS\n",
    "step_one = brics.loc[:, \"area\"]\n",
    "\n",
    "#Alternatives:\n",
    "#brics[\"area\"]\n",
    "#brics.iloc[:, 0]\n",
    "\n",
    "# Display the result\n",
    "step_one"
   ]
  },
  {
   "cell_type": "markdown",
   "metadata": {},
   "source": [
    "Although there are a number of ways to do this and the example above only uses the `loc()` function, the most important aspect is that the result is a Pandas Series, __not__ a DataFrame. "
   ]
  },
  {
   "cell_type": "code",
   "execution_count": 15,
   "metadata": {
    "collapsed": false
   },
   "outputs": [
    {
     "data": {
      "text/plain": [
       "BR     True\n",
       "RU     True\n",
       "IN    False\n",
       "CH     True\n",
       "SA    False\n",
       "Name: area, dtype: bool"
      ]
     },
     "execution_count": 15,
     "metadata": {},
     "output_type": "execute_result"
    }
   ],
   "source": [
    "# Step 2. Perform the comparison\n",
    "step_two = brics.loc[:, \"area\"] > 8\n",
    "\n",
    "#Alternatives\n",
    "#brics[\"area] > 8\n",
    "#brics.iloc[:, 0]\n",
    "\n",
    "# Display the result\n",
    "step_two"
   ]
  },
  {
   "cell_type": "code",
   "execution_count": 16,
   "metadata": {
    "collapsed": false
   },
   "outputs": [
    {
     "data": {
      "text/plain": [
       "BR    Brazil\n",
       "RU    Russia\n",
       "CH     China\n",
       "Name: country, dtype: object"
      ]
     },
     "execution_count": 16,
     "metadata": {},
     "output_type": "execute_result"
    }
   ],
   "source": [
    "# Step 3. Subset the DataFrame\n",
    "step_three = brics[step_two][\"country\"]\n",
    "\n",
    "# Display the result\n",
    "step_three"
   ]
  },
  {
   "cell_type": "code",
   "execution_count": 17,
   "metadata": {
    "collapsed": false
   },
   "outputs": [
    {
     "data": {
      "text/plain": [
       "BR    Brazil\n",
       "RU    Russia\n",
       "CH     China\n",
       "Name: country, dtype: object"
      ]
     },
     "execution_count": 17,
     "metadata": {},
     "output_type": "execute_result"
    }
   ],
   "source": [
    "# Combining into single step\n",
    "brics[brics.loc[:, \"area\"] > 8][\"country\"]"
   ]
  },
  {
   "cell_type": "code",
   "execution_count": 18,
   "metadata": {
    "collapsed": false
   },
   "outputs": [
    {
     "data": {
      "text/plain": [
       "BR    Brazil\n",
       "CH     China\n",
       "Name: country, dtype: object"
      ]
     },
     "execution_count": 18,
     "metadata": {},
     "output_type": "execute_result"
    }
   ],
   "source": [
    "# Combining numpy and Pandas \n",
    "import numpy as np\n",
    "brics[np.logical_and(brics.loc[:, \"area\"] > 8,\n",
    "                     brics.loc[:, \"area\"] < 10)][\"country\"]"
   ]
  }
 ],
 "metadata": {
  "kernelspec": {
   "display_name": "Python 2",
   "language": "python",
   "name": "python2"
  },
  "language_info": {
   "codemirror_mode": {
    "name": "ipython",
    "version": 2
   },
   "file_extension": ".py",
   "mimetype": "text/x-python",
   "name": "python",
   "nbconvert_exporter": "python",
   "pygments_lexer": "ipython2",
   "version": "2.7.9"
  }
 },
 "nbformat": 4,
 "nbformat_minor": 0
}
