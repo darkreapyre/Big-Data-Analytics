{
 "cells": [
  {
   "cell_type": "markdown",
   "metadata": {},
   "source": [
    "# Basic Association Rule Code"
   ]
  },
  {
   "cell_type": "code",
   "execution_count": 1,
   "metadata": {
    "collapsed": false
   },
   "outputs": [],
   "source": [
    "from pyspark.mllib.fpm import FPGrowth\n",
    "\n",
    "rawdata = [\n",
    "['sunny','hot','high','FALSE','no'],\n",
    "['sunny','hot','high','TRUE','no'],\n",
    "['overcast','hot','high','FALSE','yes'],\n",
    "['rainy','mild','high','FALSE','yes'],\n",
    "['rainy','cool','normal','FALSE','yes'],\n",
    "['rainy','cool','normal','TRUE','no'],\n",
    "['overcast','cool','normal','TRUE','yes'],\n",
    "['sunny','mild','high','FALSE','no'],\n",
    "['sunny','cool','normal','FALSE','yes'],\n",
    "['rainy','mild','normal','FALSE','yes'],\n",
    "['sunny','mild','normal','TRUE','yes'],\n",
    "['overcast','mild','high','TRUE','yes'],\n",
    "['overcast','hot','normal','FALSE','yes'],\n",
    "['rainy','mild','high','TRUE','no']\n",
    "]\n",
    "\n",
    "# make an RDD of the data\n",
    "wrdd = sc.parallelize(rawdata)"
   ]
  },
  {
   "cell_type": "code",
   "execution_count": 2,
   "metadata": {
    "collapsed": true
   },
   "outputs": [],
   "source": [
    "# Train a frequent pattern model with a `0.5` minimum item-set support\n",
    "fp_model = FPGrowth.train(wrdd, 0.5)"
   ]
  },
  {
   "cell_type": "code",
   "execution_count": 3,
   "metadata": {
    "collapsed": false
   },
   "outputs": [
    {
     "name": "stdout",
     "output_type": "stream",
     "text": [
      "FreqItemset(items=[u'FALSE'], freq=8)\n",
      "FreqItemset(items=[u'high'], freq=7)\n",
      "FreqItemset(items=[u'normal'], freq=7)\n",
      "FreqItemset(items=[u'yes'], freq=9)\n"
     ]
    }
   ],
   "source": [
    "freqset = sorted(fp_model.freqItemsets().collect())\n",
    "\n",
    "for fs in freqset:\n",
    "    print fs"
   ]
  }
 ],
 "metadata": {
  "kernelspec": {
   "display_name": "Python 2",
   "language": "python",
   "name": "python2"
  },
  "language_info": {
   "codemirror_mode": {
    "name": "ipython",
    "version": 2
   },
   "file_extension": ".py",
   "mimetype": "text/x-python",
   "name": "python",
   "nbconvert_exporter": "python",
   "pygments_lexer": "ipython2",
   "version": "2.7.6"
  }
 },
 "nbformat": 4,
 "nbformat_minor": 0
}
